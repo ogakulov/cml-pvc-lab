{
 "cells": [
  {
   "cell_type": "code",
   "execution_count": 5,
   "id": "171fad59-9c51-4736-965b-68aa12b382a4",
   "metadata": {
    "tags": []
   },
   "outputs": [],
   "source": [
    "# Load the Azure datalake storage package\n",
    "from azure.storage.filedatalake import DataLakeFileClient\n",
    "import os"
   ]
  },
  {
   "cell_type": "code",
   "execution_count": 7,
   "id": "8f3f641a-3ad2-4549-b2e8-e9ea23d241ce",
   "metadata": {
    "tags": []
   },
   "outputs": [],
   "source": [
    "# Download file and place into project direcotry\n",
    "connection_string = os.environ[\"ADLS_CONECTION_STRING\"]\n",
    "file = DataLakeFileClient.from_connection_string(connection_string,\n",
    "                                                 file_system_name=\"cmladls\", file_path=\"WA_Fn-UseC_-Telco-Customer-Churn.csv\")\n",
    "\n",
    "with open(\"./churn_data.csv\", \"wb\") as my_file:\n",
    "    download = file.download_file()\n",
    "    download.readinto(my_file)"
   ]
  },
  {
   "cell_type": "markdown",
   "id": "5ad077aa-cbfe-4cf8-a70a-e38372890c4c",
   "metadata": {},
   "source": [
    "#### Note\n",
    "For larg datasets, copy from ADLS to HDFS directly with command similar to below:\n",
    "```\n",
    "hadoop  distcp -D fs.azure.account.key.<account name>.blob.core.windows.net=<Key> wasb://<container>@<account>.blob.core.windows.net<path to wasb file> hdfs://<hdfs path>\n",
    "```"
   ]
  }
 ],
 "metadata": {
  "kernelspec": {
   "display_name": "Python 3 (ipykernel)",
   "language": "python",
   "name": "python3"
  },
  "language_info": {
   "codemirror_mode": {
    "name": "ipython",
    "version": 3
   },
   "file_extension": ".py",
   "mimetype": "text/x-python",
   "name": "python",
   "nbconvert_exporter": "python",
   "pygments_lexer": "ipython3",
   "version": "3.9.16"
  }
 },
 "nbformat": 4,
 "nbformat_minor": 5
}
