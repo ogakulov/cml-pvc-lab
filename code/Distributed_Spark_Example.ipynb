{
 "cells": [
  {
   "cell_type": "markdown",
   "id": "9430d090-5a47-437c-9d46-2dac646bb656",
   "metadata": {},
   "source": [
    "### Example of a distributed Spark job\n",
    "Note that local master config is missing, defaulting to distributed mode. The driver still runs in this CML session."
   ]
  },
  {
   "cell_type": "code",
   "execution_count": null,
   "id": "2e8b537d-66a5-49ed-9f88-046f8c8d9c1b",
   "metadata": {
    "tags": []
   },
   "outputs": [],
   "source": [
    "import os\n",
    "from pyspark.sql import SparkSession\n",
    "from pyspark.sql.types import *\n",
    "\n",
    "hive_database = os.environ['HIVE_DATABASE']\n",
    "hive_table = os.environ['HIVE_TABLE']\n",
    "hive_table_fq = hive_database + '.' + hive_table\n",
    "\n",
    "# connect to Spark\n",
    "spark = SparkSession.builder.appName(\"Telco Data Set\")\\\n",
    "        .config(\"spark.dynamicAllocation.minExecutors\", 1)\\\n",
    "        .config(\"spark.dynamicAllocation.maxExecutors\", 4)\\\n",
    "        .config(\"spark.executor.memory\",\"1g\")\\\n",
    "        .config(\"spark.executor.cores\",\"1\")\\\n",
    "        .config(\"spark.driver.memory\",\"1g\")\\\n",
    "        .config(\"spark.sql.extensions\",\"org.apache.iceberg.spark.extensions.IcebergSparkSessionExtensions\")\\\n",
    "        .config(\"spark.sql.catalog.spark_catalog\", \"org.apache.iceberg.spark.SparkSessionCatalog\")\\\n",
    "        .config(\"spark.sql.catalog.local\",\"org.apache.iceberg.spark.SparkCatalog\") \\\n",
    "        .config(\"spark.sql.catalog.local.type\",\"hadoop\") \\\n",
    "        .config(\"spark.hadoop.iceberg.engine.hive.enabled\", \"true\")\\\n",
    "        .getOrCreate()\n",
    "\n",
    "# read data into a Spark DataFrame\n",
    "telco_data_raw = spark.sql(\"SELECT * FROM \" + hive_table_fq)\n",
    "\n",
    "telco_data_raw.printSchema()"
   ]
  }
 ],
 "metadata": {
  "kernelspec": {
   "display_name": "Python 3 (ipykernel)",
   "language": "python",
   "name": "python3"
  },
  "language_info": {
   "codemirror_mode": {
    "name": "ipython",
    "version": 3
   },
   "file_extension": ".py",
   "mimetype": "text/x-python",
   "name": "python",
   "nbconvert_exporter": "python",
   "pygments_lexer": "ipython3",
   "version": "3.9.16"
  }
 },
 "nbformat": 4,
 "nbformat_minor": 5
}
